{
  "nbformat": 4,
  "nbformat_minor": 0,
  "metadata": {
    "colab": {
      "provenance": []
    },
    "kernelspec": {
      "name": "python3",
      "display_name": "Python 3"
    },
    "language_info": {
      "name": "python"
    }
  },
  "cells": [
    {
      "cell_type": "markdown",
      "source": [
        "#1108. Defanging an IP Address\n",
        "\n",
        "Given a valid (IPv4) IP address, return a defanged version of that IP address.\n",
        "\n",
        "A defanged IP address replaces every period \".\" with \"[.]\"."
      ],
      "metadata": {
        "id": "_UGpr1djgab9"
      }
    },
    {
      "cell_type": "code",
      "execution_count": null,
      "metadata": {
        "id": "gYob4Fg4gPlF"
      },
      "outputs": [],
      "source": [
        "class Solution:\n",
        "    def defangIPaddr(self, address: str) -> str:\n",
        "        return(address.replace(\".\",\"[.]\"))"
      ]
    },
    {
      "cell_type": "markdown",
      "source": [
        "#2011. Final Value of Variable After Performing Operations\n",
        "\n",
        "There is a programming language with only four operations and one variable X:\n",
        "\n",
        "++X and X++ increments the value of the variable X by 1.\n",
        "--X and X-- decrements the value of the variable X by 1.\n",
        "Initially, the value of X is 0.\n",
        "\n",
        "Given an array of strings operations containing a list of operations, return the final value of X after performing all the operations."
      ],
      "metadata": {
        "id": "uUGfKkrzgQKT"
      }
    },
    {
      "cell_type": "code",
      "source": [
        "class Solution:\n",
        "    def finalValueAfterOperations(self, operations: List[str]) -> int:\n",
        "        x = 0\n",
        "        for i in operations:\n",
        "            if \"+\" in i:\n",
        "                x += 1\n",
        "            else:\n",
        "                x -= 1\n",
        "        return(x)"
      ],
      "metadata": {
        "id": "yZI2J6JWgRdY"
      },
      "execution_count": null,
      "outputs": []
    },
    {
      "cell_type": "markdown",
      "source": [
        "#**2114. Maximum Number of Words Found in Sentences**\n",
        "A sentence is a list of words that are separated by a single space with no leading or trailing spaces.\n",
        "\n",
        "You are given an array of strings sentences, where each sentences[i] represents a single sentence.\n",
        "\n",
        "Return the maximum number of words that appear in a single sentence."
      ],
      "metadata": {
        "id": "oFlxZAd-hP1g"
      }
    },
    {
      "cell_type": "code",
      "source": [
        "class Solution:\n",
        "    def mostWordsFound(self, sentences: List[str]) -> int:\n",
        "        i = max(i.count(\" \") for i in sentences)\n",
        "        return(i+1)"
      ],
      "metadata": {
        "id": "Jkz3uEcGhWe8"
      },
      "execution_count": null,
      "outputs": []
    },
    {
      "cell_type": "markdown",
      "source": [
        "#771. Jewels and Stones\n",
        "You're given strings jewels representing the types of stones that are jewels, and stones representing the stones you have. Each character in stones is a type of stone you have. You want to know how many of the stones you have are also jewels.\n",
        "\n",
        "Letters are case sensitive, so \"a\" is considered a different type of stone from \"A\"."
      ],
      "metadata": {
        "id": "rZ146vSpcuyJ"
      }
    },
    {
      "cell_type": "code",
      "source": [
        "class Solution:\n",
        "    def numJewelsInStones(self, jewels: str, stones: str) -> int:\n",
        "        lj = list(jewels)\n",
        "        ls = list(stones)\n",
        "        x = 0\n",
        "        for j in lj:\n",
        "            for s in ls:\n",
        "                if j == s:\n",
        "                    x += 1\n",
        "        return(x)"
      ],
      "metadata": {
        "id": "OgrExP-_ec0I"
      },
      "execution_count": null,
      "outputs": []
    },
    {
      "cell_type": "markdown",
      "source": [
        "#**1816. Truncate Sentence**\n",
        "A sentence is a list of words that are separated by a single space with no leading or trailing spaces. Each of the words consists of only uppercase and lowercase English letters (no punctuation).\n",
        "\n",
        "For example, \"Hello World\", \"HELLO\", and \"hello world hello world\" are all sentences.\n",
        "You are given a sentence s​​​​​​ and an integer k​​​​​​. You want to truncate s​​​​​​ such that it contains only the first k​​​​​​ words. Return s​​​​​​ after truncating it."
      ],
      "metadata": {
        "id": "WZidfPdKffQR"
      }
    },
    {
      "cell_type": "code",
      "source": [
        "?? [:k]"
      ],
      "metadata": {
        "id": "qu9BzYtgfrgb"
      },
      "execution_count": null,
      "outputs": []
    },
    {
      "cell_type": "markdown",
      "source": [
        "#2278. Percentage of Letter in String\n",
        "Given a string s and a character letter, return the percentage of characters in s that equal letter rounded down to the nearest whole percent."
      ],
      "metadata": {
        "id": "-IR6Vw6zfz5g"
      }
    },
    {
      "cell_type": "code",
      "source": [
        "class Solution:\n",
        "    def percentageLetter(self, s: str, letter: str) -> int:\n",
        "        x = 0\n",
        "        for i in s:\n",
        "            if i == letter:\n",
        "                x+=1\n",
        "        l = len(s)\n",
        "        return(round(x/l*100))"
      ],
      "metadata": {
        "id": "ILwpLIQWgVQJ"
      },
      "execution_count": null,
      "outputs": []
    }
  ]
}